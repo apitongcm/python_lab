{
 "cells": [
  {
   "cell_type": "markdown",
   "id": "a9dce5a6",
   "metadata": {},
   "source": [
    "### Getting information from user"
   ]
  },
  {
   "cell_type": "code",
   "execution_count": 7,
   "id": "24c2f9d5",
   "metadata": {},
   "outputs": [
    {
     "name": "stdout",
     "output_type": "stream",
     "text": [
      "Enter your name  Carl\n"
     ]
    }
   ],
   "source": [
    "name = input(\"Enter your name  \")"
   ]
  },
  {
   "cell_type": "markdown",
   "id": "2b6ed51b",
   "metadata": {},
   "source": [
    "### Print user information\n"
   ]
  },
  {
   "cell_type": "code",
   "execution_count": 32,
   "id": "953ae539",
   "metadata": {
    "scrolled": true
   },
   "outputs": [
    {
     "name": "stdout",
     "output_type": "stream",
     "text": [
      "Hello Carl\n"
     ]
    }
   ],
   "source": [
    "print(\"Hello \" + name)"
   ]
  },
  {
   "cell_type": "markdown",
   "id": "66b0087d",
   "metadata": {},
   "source": [
    "### Using Dictionary "
   ]
  },
  {
   "cell_type": "code",
   "execution_count": 9,
   "id": "8f2ba2ac",
   "metadata": {},
   "outputs": [],
   "source": [
    "days = {\"Monday\":\"Group1\", \"Tuesday\":\"Group2\", \"Wednesday\":\"Group3\", \"Thursday\":\"Group4\", \"Friday\":\"Group5\"}"
   ]
  },
  {
   "cell_type": "markdown",
   "id": "dce606b8",
   "metadata": {},
   "source": [
    "### Print what group is in charge for the day."
   ]
  },
  {
   "cell_type": "code",
   "execution_count": 12,
   "id": "1f45112c",
   "metadata": {
    "scrolled": true
   },
   "outputs": [
    {
     "name": "stdout",
     "output_type": "stream",
     "text": [
      "The cleaners for to day is Group5\n"
     ]
    }
   ],
   "source": [
    "print(\"The cleaners for to day is \" + days[\"Friday\"])"
   ]
  },
  {
   "cell_type": "markdown",
   "id": "e3af7a3f",
   "metadata": {},
   "source": [
    "### List of Students"
   ]
  },
  {
   "cell_type": "code",
   "execution_count": 16,
   "id": "588c7534",
   "metadata": {},
   "outputs": [],
   "source": [
    "studentsName = {\"Abby\",\"Bea\",\"Cardo\",\"Dale\",\"Elly\",\"Fin\",\"Gilda\",\"Helen\",\"Iya\"}"
   ]
  },
  {
   "cell_type": "markdown",
   "id": "9928c6d6",
   "metadata": {},
   "source": [
    "### Remove Bea from the list of student"
   ]
  },
  {
   "cell_type": "code",
   "execution_count": 20,
   "id": "ddb805f3",
   "metadata": {},
   "outputs": [],
   "source": [
    "studentsName.remove(\"Bea\")"
   ]
  },
  {
   "cell_type": "code",
   "execution_count": 21,
   "id": "8425e670",
   "metadata": {
    "scrolled": true
   },
   "outputs": [
    {
     "name": "stdout",
     "output_type": "stream",
     "text": [
      "{'Elly', 'Gilda', 'Helen', 'Abby', 'Cardo', 'Fin', 'Iya', 'Dale'}\n"
     ]
    }
   ],
   "source": [
    "print(studentsName)"
   ]
  },
  {
   "cell_type": "markdown",
   "id": "d9374dec",
   "metadata": {},
   "source": [
    "### Add Bea from the list of student"
   ]
  },
  {
   "cell_type": "code",
   "execution_count": 22,
   "id": "3e45bad7",
   "metadata": {},
   "outputs": [],
   "source": [
    "studentsName.add(\"Bea\")"
   ]
  },
  {
   "cell_type": "code",
   "execution_count": 33,
   "id": "e3325ae1",
   "metadata": {},
   "outputs": [],
   "source": [
    "studentsName.add(\"Jenny\")"
   ]
  },
  {
   "cell_type": "code",
   "execution_count": 34,
   "id": "9af72f3e",
   "metadata": {
    "scrolled": true
   },
   "outputs": [
    {
     "name": "stdout",
     "output_type": "stream",
     "text": [
      "{'Elly', 'Gilda', 'Helen', 'Jenny', 'Abby', 'Cardo', 'Fin', 'Iya', 'Dale', 'Bea'}\n"
     ]
    }
   ],
   "source": [
    "print(studentsName)"
   ]
  },
  {
   "cell_type": "markdown",
   "id": "cbc08952",
   "metadata": {},
   "source": [
    "### Get rid of the last element in the left"
   ]
  },
  {
   "cell_type": "code",
   "execution_count": 38,
   "id": "d4ff1e57",
   "metadata": {},
   "outputs": [
    {
     "data": {
      "text/plain": [
       "'Elly'"
      ]
     },
     "execution_count": 38,
     "metadata": {},
     "output_type": "execute_result"
    }
   ],
   "source": [
    "studentsName.pop()"
   ]
  },
  {
   "cell_type": "code",
   "execution_count": 39,
   "id": "dca8be95",
   "metadata": {
    "scrolled": true
   },
   "outputs": [
    {
     "name": "stdout",
     "output_type": "stream",
     "text": [
      "{'Gilda', 'Helen', 'Jenny', 'Abby', 'Cardo', 'Fin', 'Iya', 'Dale', 'Bea'}\n"
     ]
    }
   ],
   "source": [
    "print(studentsName)"
   ]
  },
  {
   "cell_type": "markdown",
   "id": "78d5a374",
   "metadata": {},
   "source": [
    "### Finding the value of mean"
   ]
  },
  {
   "cell_type": "code",
   "execution_count": 42,
   "id": "3efc7b46",
   "metadata": {},
   "outputs": [],
   "source": [
    "def find_mean(ave):\n",
    "    print(\"the mean of this list\", ave )\n",
    "    "
   ]
  },
  {
   "cell_type": "code",
   "execution_count": 56,
   "id": "ad00e028",
   "metadata": {},
   "outputs": [],
   "source": [
    "sample_test1  = {92,99,89,95,88,82}\n",
    "n1 = len(sample_test1)"
   ]
  },
  {
   "cell_type": "code",
   "execution_count": 57,
   "id": "fc74e8e4",
   "metadata": {},
   "outputs": [],
   "source": [
    "sum_test1 = sum(sample_test1)"
   ]
  },
  {
   "cell_type": "code",
   "execution_count": 58,
   "id": "d5e99e84",
   "metadata": {},
   "outputs": [],
   "source": [
    "ave_test1= sum_test1 / n1 "
   ]
  },
  {
   "cell_type": "code",
   "execution_count": 59,
   "id": "af1509ef",
   "metadata": {},
   "outputs": [],
   "source": [
    "mean_test1 = str(ave_test1)"
   ]
  },
  {
   "cell_type": "code",
   "execution_count": 60,
   "id": "9a6ed4d6",
   "metadata": {},
   "outputs": [
    {
     "name": "stdout",
     "output_type": "stream",
     "text": [
      "the mean of this list 90.83333333333333\n"
     ]
    }
   ],
   "source": [
    "find_mean(mean_test1)"
   ]
  },
  {
   "cell_type": "code",
   "execution_count": 61,
   "id": "51d678cb",
   "metadata": {},
   "outputs": [
    {
     "name": "stdout",
     "output_type": "stream",
     "text": [
      "the mean of this list 89.5\n"
     ]
    }
   ],
   "source": [
    "sample_test2 = {90,88,85,85,84,88,91,99,99}\n",
    "n2 = len(sample_test2)\n",
    "sum_test2 = sum(sample_test2)\n",
    "ave_test2 = sum_test2 / n2 \n",
    "mean_test2 = str(ave_test2)\n",
    "find_mean(mean_test2)"
   ]
  },
  {
   "cell_type": "markdown",
   "id": "82b2799b",
   "metadata": {},
   "source": [
    "### Array and Lists"
   ]
  },
  {
   "cell_type": "code",
   "execution_count": 86,
   "id": "47b89589",
   "metadata": {
    "scrolled": true
   },
   "outputs": [
    {
     "name": "stdout",
     "output_type": "stream",
     "text": [
      "[12, 2, 5, 5, 8, 10, 23, 26, 31, 50, 2, 1, 10, 20, 32, 42]\n"
     ]
    }
   ],
   "source": [
    "import array as arr\n",
    "\n",
    "friends_seatnum = [ 12, 2, 5, 5, 8, 10 , 23, 26, 31, 50,2,1,10,20,32,42]\n",
    "print(friends_seatnum)"
   ]
  },
  {
   "cell_type": "markdown",
   "id": "0bf4d7c3",
   "metadata": {},
   "source": [
    "### Sort Array Ascending order"
   ]
  },
  {
   "cell_type": "code",
   "execution_count": 89,
   "id": "9015a059",
   "metadata": {
    "scrolled": false
   },
   "outputs": [
    {
     "name": "stdout",
     "output_type": "stream",
     "text": [
      "[1, 2, 2, 5, 5, 8, 10, 10, 12, 20, 23, 26, 31, 32, 42, 50]\n"
     ]
    }
   ],
   "source": [
    "sort_ascending = sorted(friends_seatnum, reverse= False)\n",
    "print(sort_ascending)"
   ]
  },
  {
   "cell_type": "markdown",
   "id": "40d27f20",
   "metadata": {},
   "source": [
    "### Sort Array Descending order"
   ]
  },
  {
   "cell_type": "code",
   "execution_count": 90,
   "id": "8a9ba301",
   "metadata": {},
   "outputs": [
    {
     "name": "stdout",
     "output_type": "stream",
     "text": [
      "[50, 42, 32, 31, 26, 23, 20, 12, 10, 10, 8, 5, 5, 2, 2, 1]\n"
     ]
    }
   ],
   "source": [
    "sort_descending = sorted(friends_seatnum, reverse= True)\n",
    "print(sort_descending)"
   ]
  },
  {
   "cell_type": "code",
   "execution_count": 87,
   "id": "9fd12e3c",
   "metadata": {
    "scrolled": true
   },
   "outputs": [
    {
     "name": "stdout",
     "output_type": "stream",
     "text": [
      "array('i', [12, 2, 5, 5, 8, 10])\n"
     ]
    }
   ],
   "source": [
    "new_friends_seatnum = arr.array('i', friends_seatnum)\n",
    "\n",
    "print(new_friends_seatnum[0:6])"
   ]
  },
  {
   "cell_type": "markdown",
   "id": "f9cef6ad",
   "metadata": {},
   "source": [
    "### Finding median of the given samples "
   ]
  },
  {
   "cell_type": "code",
   "execution_count": 82,
   "id": "be924ef6",
   "metadata": {},
   "outputs": [
    {
     "name": "stdout",
     "output_type": "stream",
     "text": [
      "100\n"
     ]
    }
   ],
   "source": [
    "def find_median(med):\n",
    "    print(\"The median of the given sample \", med)\n",
    "    \n",
    "sample_test = [2,5,3,6,10,23,26,30,50,23,33,52,67,94,100]\n",
    "finding_max = max(sample_test)\n",
    "print(finding_max)"
   ]
  },
  {
   "cell_type": "code",
   "execution_count": 83,
   "id": "1c12be5a",
   "metadata": {},
   "outputs": [
    {
     "name": "stdout",
     "output_type": "stream",
     "text": [
      "The median of the given sample  50.0\n"
     ]
    }
   ],
   "source": [
    "finding_mid = finding_max / 2 \n",
    "median_sample1 = str(finding_mid)\n",
    "\n",
    "find_median(median_sample1)"
   ]
  },
  {
   "cell_type": "code",
   "execution_count": 84,
   "id": "cc661d01",
   "metadata": {},
   "outputs": [
    {
     "name": "stdout",
     "output_type": "stream",
     "text": [
      "['fred', 'albert', 'dane', 'eli', 'gevin', 'hansel']\n"
     ]
    }
   ],
   "source": [
    "name_customer = [\"fred\", \"albert\", \"dane\", \"eli\", \"gevin\", \"hansel\"]\n",
    "print(name_customer)"
   ]
  },
  {
   "cell_type": "code",
   "execution_count": 81,
   "id": "4aa38a0e",
   "metadata": {},
   "outputs": [
    {
     "name": "stdout",
     "output_type": "stream",
     "text": [
      "['hansel', 'gevin', 'eli', 'dane', 'albert', 'fred']\n"
     ]
    }
   ],
   "source": [
    "reverse_name = list(reversed(name_customer))\n",
    "print(reverse_name)"
   ]
  },
  {
   "cell_type": "code",
   "execution_count": 85,
   "id": "26f9bc76",
   "metadata": {},
   "outputs": [
    {
     "name": "stdout",
     "output_type": "stream",
     "text": [
      "hansel\n"
     ]
    }
   ],
   "source": [
    "r1 = reverse_name[0]\n",
    "print(r1)"
   ]
  },
  {
   "cell_type": "code",
   "execution_count": null,
   "id": "f124d159",
   "metadata": {},
   "outputs": [],
   "source": []
  },
  {
   "cell_type": "code",
   "execution_count": null,
   "id": "2795b1cb",
   "metadata": {},
   "outputs": [],
   "source": []
  }
 ],
 "metadata": {
  "kernelspec": {
   "display_name": "Python 3 (ipykernel)",
   "language": "python",
   "name": "python3"
  },
  "language_info": {
   "codemirror_mode": {
    "name": "ipython",
    "version": 3
   },
   "file_extension": ".py",
   "mimetype": "text/x-python",
   "name": "python",
   "nbconvert_exporter": "python",
   "pygments_lexer": "ipython3",
   "version": "3.9.7"
  }
 },
 "nbformat": 4,
 "nbformat_minor": 5
}
